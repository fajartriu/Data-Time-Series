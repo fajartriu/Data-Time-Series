{
  "nbformat": 4,
  "nbformat_minor": 0,
  "metadata": {
    "colab": {
      "name": "Latihan Data Time Series Bitcoin 2020.ipynb",
      "provenance": [],
      "collapsed_sections": []
    },
    "kernelspec": {
      "name": "python3",
      "display_name": "Python 3"
    },
    "language_info": {
      "name": "python"
    }
  },
  "cells": [
    {
      "cell_type": "code",
      "metadata": {
        "id": "I8Ga1eApuzOS"
      },
      "source": [
        "import numpy as np\n",
        "import pandas as pd\n",
        "from keras.layers import Dense, LSTM\n",
        "import matplotlib.pyplot as plt\n",
        "import tensorflow as tf\n",
        "\n",
        "from tensorflow.keras.callbacks import ReduceLROnPlateau\n",
        "\n",
        "from sklearn.model_selection import train_test_split\n"
      ],
      "execution_count": null,
      "outputs": []
    },
    {
      "cell_type": "code",
      "metadata": {
        "id": "BeP8dXk6u2hG"
      },
      "source": [
        "# import data\n",
        "df = pd.read_csv('/content/drive/MyDrive/LatihanML/gemini_BTCUSD_2020_1min.csv')"
      ],
      "execution_count": null,
      "outputs": []
    },
    {
      "cell_type": "code",
      "metadata": {
        "colab": {
          "base_uri": "https://localhost:8080/",
          "height": 1000
        },
        "id": "MiPV4MwYvGh_",
        "outputId": "b3aacbcf-c9f1-4cbe-cf3e-b7944d90d1d1"
      },
      "source": [
        "# cek data\n",
        "df.head(50)"
      ],
      "execution_count": null,
      "outputs": [
        {
          "output_type": "execute_result",
          "data": {
            "text/html": [
              "<div>\n",
              "<style scoped>\n",
              "    .dataframe tbody tr th:only-of-type {\n",
              "        vertical-align: middle;\n",
              "    }\n",
              "\n",
              "    .dataframe tbody tr th {\n",
              "        vertical-align: top;\n",
              "    }\n",
              "\n",
              "    .dataframe thead th {\n",
              "        text-align: right;\n",
              "    }\n",
              "</style>\n",
              "<table border=\"1\" class=\"dataframe\">\n",
              "  <thead>\n",
              "    <tr style=\"text-align: right;\">\n",
              "      <th></th>\n",
              "      <th>Unix Timestamp</th>\n",
              "      <th>Date</th>\n",
              "      <th>Symbol</th>\n",
              "      <th>Open</th>\n",
              "      <th>High</th>\n",
              "      <th>Low</th>\n",
              "      <th>Close</th>\n",
              "      <th>Volume</th>\n",
              "    </tr>\n",
              "  </thead>\n",
              "  <tbody>\n",
              "    <tr>\n",
              "      <th>0</th>\n",
              "      <td>1.618880e+12</td>\n",
              "      <td>4/20/2021 0:02</td>\n",
              "      <td>BTCUSD</td>\n",
              "      <td>55717.47</td>\n",
              "      <td>55723.00</td>\n",
              "      <td>55541.69</td>\n",
              "      <td>55541.69</td>\n",
              "      <td>2.406734</td>\n",
              "    </tr>\n",
              "    <tr>\n",
              "      <th>1</th>\n",
              "      <td>1.618880e+12</td>\n",
              "      <td>4/20/2021 0:01</td>\n",
              "      <td>BTCUSD</td>\n",
              "      <td>55768.94</td>\n",
              "      <td>55849.82</td>\n",
              "      <td>55711.74</td>\n",
              "      <td>55717.47</td>\n",
              "      <td>0.573458</td>\n",
              "    </tr>\n",
              "    <tr>\n",
              "      <th>2</th>\n",
              "      <td>1.618880e+12</td>\n",
              "      <td>4/20/2021 0:00</td>\n",
              "      <td>BTCUSD</td>\n",
              "      <td>55691.79</td>\n",
              "      <td>55793.15</td>\n",
              "      <td>55691.79</td>\n",
              "      <td>55768.94</td>\n",
              "      <td>3.309904</td>\n",
              "    </tr>\n",
              "    <tr>\n",
              "      <th>3</th>\n",
              "      <td>1.618880e+12</td>\n",
              "      <td>4/19/2021 23:59</td>\n",
              "      <td>BTCUSD</td>\n",
              "      <td>55777.86</td>\n",
              "      <td>55777.86</td>\n",
              "      <td>55677.92</td>\n",
              "      <td>55691.79</td>\n",
              "      <td>0.684934</td>\n",
              "    </tr>\n",
              "    <tr>\n",
              "      <th>4</th>\n",
              "      <td>1.618880e+12</td>\n",
              "      <td>4/19/2021 23:58</td>\n",
              "      <td>BTCUSD</td>\n",
              "      <td>55803.50</td>\n",
              "      <td>55823.88</td>\n",
              "      <td>55773.08</td>\n",
              "      <td>55777.86</td>\n",
              "      <td>0.477225</td>\n",
              "    </tr>\n",
              "    <tr>\n",
              "      <th>5</th>\n",
              "      <td>1.618880e+12</td>\n",
              "      <td>4/19/2021 23:57</td>\n",
              "      <td>BTCUSD</td>\n",
              "      <td>55690.64</td>\n",
              "      <td>55822.91</td>\n",
              "      <td>55682.56</td>\n",
              "      <td>55803.50</td>\n",
              "      <td>5.461717</td>\n",
              "    </tr>\n",
              "    <tr>\n",
              "      <th>6</th>\n",
              "      <td>1.618880e+12</td>\n",
              "      <td>4/19/2021 23:56</td>\n",
              "      <td>BTCUSD</td>\n",
              "      <td>55624.69</td>\n",
              "      <td>55713.02</td>\n",
              "      <td>55624.63</td>\n",
              "      <td>55690.64</td>\n",
              "      <td>0.696311</td>\n",
              "    </tr>\n",
              "    <tr>\n",
              "      <th>7</th>\n",
              "      <td>1.618880e+12</td>\n",
              "      <td>4/19/2021 23:55</td>\n",
              "      <td>BTCUSD</td>\n",
              "      <td>55651.82</td>\n",
              "      <td>55675.92</td>\n",
              "      <td>55621.58</td>\n",
              "      <td>55624.69</td>\n",
              "      <td>0.470161</td>\n",
              "    </tr>\n",
              "    <tr>\n",
              "      <th>8</th>\n",
              "      <td>1.618880e+12</td>\n",
              "      <td>4/19/2021 23:54</td>\n",
              "      <td>BTCUSD</td>\n",
              "      <td>55688.08</td>\n",
              "      <td>55730.21</td>\n",
              "      <td>55641.40</td>\n",
              "      <td>55651.82</td>\n",
              "      <td>0.456722</td>\n",
              "    </tr>\n",
              "    <tr>\n",
              "      <th>9</th>\n",
              "      <td>1.618880e+12</td>\n",
              "      <td>4/19/2021 23:53</td>\n",
              "      <td>BTCUSD</td>\n",
              "      <td>55749.28</td>\n",
              "      <td>55749.28</td>\n",
              "      <td>55688.08</td>\n",
              "      <td>55688.08</td>\n",
              "      <td>0.286419</td>\n",
              "    </tr>\n",
              "    <tr>\n",
              "      <th>10</th>\n",
              "      <td>1.618880e+12</td>\n",
              "      <td>4/19/2021 23:52</td>\n",
              "      <td>BTCUSD</td>\n",
              "      <td>55704.59</td>\n",
              "      <td>55759.27</td>\n",
              "      <td>55695.42</td>\n",
              "      <td>55749.28</td>\n",
              "      <td>0.524271</td>\n",
              "    </tr>\n",
              "    <tr>\n",
              "      <th>11</th>\n",
              "      <td>1.618880e+12</td>\n",
              "      <td>4/19/2021 23:51</td>\n",
              "      <td>BTCUSD</td>\n",
              "      <td>55779.38</td>\n",
              "      <td>55779.38</td>\n",
              "      <td>55688.66</td>\n",
              "      <td>55704.59</td>\n",
              "      <td>0.767228</td>\n",
              "    </tr>\n",
              "    <tr>\n",
              "      <th>12</th>\n",
              "      <td>1.618880e+12</td>\n",
              "      <td>4/19/2021 23:50</td>\n",
              "      <td>BTCUSD</td>\n",
              "      <td>55816.61</td>\n",
              "      <td>55835.57</td>\n",
              "      <td>55769.46</td>\n",
              "      <td>55779.38</td>\n",
              "      <td>3.533438</td>\n",
              "    </tr>\n",
              "    <tr>\n",
              "      <th>13</th>\n",
              "      <td>1.618880e+12</td>\n",
              "      <td>4/19/2021 23:49</td>\n",
              "      <td>BTCUSD</td>\n",
              "      <td>55843.69</td>\n",
              "      <td>55863.89</td>\n",
              "      <td>55797.08</td>\n",
              "      <td>55816.61</td>\n",
              "      <td>0.586631</td>\n",
              "    </tr>\n",
              "    <tr>\n",
              "      <th>14</th>\n",
              "      <td>1.618880e+12</td>\n",
              "      <td>4/19/2021 23:48</td>\n",
              "      <td>BTCUSD</td>\n",
              "      <td>55880.12</td>\n",
              "      <td>55916.47</td>\n",
              "      <td>55815.99</td>\n",
              "      <td>55843.69</td>\n",
              "      <td>6.059828</td>\n",
              "    </tr>\n",
              "    <tr>\n",
              "      <th>15</th>\n",
              "      <td>1.618880e+12</td>\n",
              "      <td>4/19/2021 23:47</td>\n",
              "      <td>BTCUSD</td>\n",
              "      <td>55890.88</td>\n",
              "      <td>55918.87</td>\n",
              "      <td>55826.84</td>\n",
              "      <td>55880.12</td>\n",
              "      <td>0.137561</td>\n",
              "    </tr>\n",
              "    <tr>\n",
              "      <th>16</th>\n",
              "      <td>1.618880e+12</td>\n",
              "      <td>4/19/2021 23:46</td>\n",
              "      <td>BTCUSD</td>\n",
              "      <td>55887.36</td>\n",
              "      <td>55892.99</td>\n",
              "      <td>55861.68</td>\n",
              "      <td>55890.88</td>\n",
              "      <td>0.211958</td>\n",
              "    </tr>\n",
              "    <tr>\n",
              "      <th>17</th>\n",
              "      <td>1.618880e+12</td>\n",
              "      <td>4/19/2021 23:45</td>\n",
              "      <td>BTCUSD</td>\n",
              "      <td>55748.47</td>\n",
              "      <td>55905.00</td>\n",
              "      <td>55748.47</td>\n",
              "      <td>55887.36</td>\n",
              "      <td>0.157408</td>\n",
              "    </tr>\n",
              "    <tr>\n",
              "      <th>18</th>\n",
              "      <td>1.618880e+12</td>\n",
              "      <td>4/19/2021 23:44</td>\n",
              "      <td>BTCUSD</td>\n",
              "      <td>55859.79</td>\n",
              "      <td>55859.79</td>\n",
              "      <td>55725.80</td>\n",
              "      <td>55748.47</td>\n",
              "      <td>1.819449</td>\n",
              "    </tr>\n",
              "    <tr>\n",
              "      <th>19</th>\n",
              "      <td>1.618880e+12</td>\n",
              "      <td>4/19/2021 23:43</td>\n",
              "      <td>BTCUSD</td>\n",
              "      <td>55770.34</td>\n",
              "      <td>55859.79</td>\n",
              "      <td>55770.34</td>\n",
              "      <td>55859.79</td>\n",
              "      <td>0.769526</td>\n",
              "    </tr>\n",
              "    <tr>\n",
              "      <th>20</th>\n",
              "      <td>1.618880e+12</td>\n",
              "      <td>4/19/2021 23:42</td>\n",
              "      <td>BTCUSD</td>\n",
              "      <td>55733.87</td>\n",
              "      <td>55784.29</td>\n",
              "      <td>55727.33</td>\n",
              "      <td>55770.34</td>\n",
              "      <td>1.926222</td>\n",
              "    </tr>\n",
              "    <tr>\n",
              "      <th>21</th>\n",
              "      <td>1.618880e+12</td>\n",
              "      <td>4/19/2021 23:41</td>\n",
              "      <td>BTCUSD</td>\n",
              "      <td>55733.44</td>\n",
              "      <td>55733.87</td>\n",
              "      <td>55651.65</td>\n",
              "      <td>55733.87</td>\n",
              "      <td>0.679018</td>\n",
              "    </tr>\n",
              "    <tr>\n",
              "      <th>22</th>\n",
              "      <td>1.618880e+12</td>\n",
              "      <td>4/19/2021 23:40</td>\n",
              "      <td>BTCUSD</td>\n",
              "      <td>55709.64</td>\n",
              "      <td>55789.43</td>\n",
              "      <td>55709.64</td>\n",
              "      <td>55733.44</td>\n",
              "      <td>2.043176</td>\n",
              "    </tr>\n",
              "    <tr>\n",
              "      <th>23</th>\n",
              "      <td>1.618880e+12</td>\n",
              "      <td>4/19/2021 23:39</td>\n",
              "      <td>BTCUSD</td>\n",
              "      <td>55826.46</td>\n",
              "      <td>55826.46</td>\n",
              "      <td>55709.64</td>\n",
              "      <td>55709.64</td>\n",
              "      <td>2.184543</td>\n",
              "    </tr>\n",
              "    <tr>\n",
              "      <th>24</th>\n",
              "      <td>1.618880e+12</td>\n",
              "      <td>4/19/2021 23:38</td>\n",
              "      <td>BTCUSD</td>\n",
              "      <td>55931.36</td>\n",
              "      <td>55931.36</td>\n",
              "      <td>55826.46</td>\n",
              "      <td>55826.46</td>\n",
              "      <td>1.157835</td>\n",
              "    </tr>\n",
              "    <tr>\n",
              "      <th>25</th>\n",
              "      <td>1.618880e+12</td>\n",
              "      <td>4/19/2021 23:37</td>\n",
              "      <td>BTCUSD</td>\n",
              "      <td>55829.23</td>\n",
              "      <td>55931.36</td>\n",
              "      <td>55815.02</td>\n",
              "      <td>55931.36</td>\n",
              "      <td>2.305510</td>\n",
              "    </tr>\n",
              "    <tr>\n",
              "      <th>26</th>\n",
              "      <td>1.618880e+12</td>\n",
              "      <td>4/19/2021 23:36</td>\n",
              "      <td>BTCUSD</td>\n",
              "      <td>55771.88</td>\n",
              "      <td>55871.22</td>\n",
              "      <td>55754.84</td>\n",
              "      <td>55829.23</td>\n",
              "      <td>1.945314</td>\n",
              "    </tr>\n",
              "    <tr>\n",
              "      <th>27</th>\n",
              "      <td>1.618880e+12</td>\n",
              "      <td>4/19/2021 23:35</td>\n",
              "      <td>BTCUSD</td>\n",
              "      <td>55763.48</td>\n",
              "      <td>55811.41</td>\n",
              "      <td>55725.52</td>\n",
              "      <td>55771.88</td>\n",
              "      <td>3.569378</td>\n",
              "    </tr>\n",
              "    <tr>\n",
              "      <th>28</th>\n",
              "      <td>1.618880e+12</td>\n",
              "      <td>4/19/2021 23:34</td>\n",
              "      <td>BTCUSD</td>\n",
              "      <td>55669.36</td>\n",
              "      <td>55776.35</td>\n",
              "      <td>55669.36</td>\n",
              "      <td>55763.48</td>\n",
              "      <td>3.721432</td>\n",
              "    </tr>\n",
              "    <tr>\n",
              "      <th>29</th>\n",
              "      <td>1.618880e+12</td>\n",
              "      <td>4/19/2021 23:33</td>\n",
              "      <td>BTCUSD</td>\n",
              "      <td>55692.41</td>\n",
              "      <td>55748.24</td>\n",
              "      <td>55667.18</td>\n",
              "      <td>55669.36</td>\n",
              "      <td>6.091782</td>\n",
              "    </tr>\n",
              "    <tr>\n",
              "      <th>30</th>\n",
              "      <td>1.618880e+12</td>\n",
              "      <td>4/19/2021 23:32</td>\n",
              "      <td>BTCUSD</td>\n",
              "      <td>55693.00</td>\n",
              "      <td>55748.29</td>\n",
              "      <td>55651.38</td>\n",
              "      <td>55692.41</td>\n",
              "      <td>2.153724</td>\n",
              "    </tr>\n",
              "    <tr>\n",
              "      <th>31</th>\n",
              "      <td>1.618880e+12</td>\n",
              "      <td>4/19/2021 23:31</td>\n",
              "      <td>BTCUSD</td>\n",
              "      <td>55618.18</td>\n",
              "      <td>55739.97</td>\n",
              "      <td>55617.68</td>\n",
              "      <td>55693.00</td>\n",
              "      <td>1.866298</td>\n",
              "    </tr>\n",
              "    <tr>\n",
              "      <th>32</th>\n",
              "      <td>1.618880e+12</td>\n",
              "      <td>4/19/2021 23:30</td>\n",
              "      <td>BTCUSD</td>\n",
              "      <td>55621.81</td>\n",
              "      <td>55726.88</td>\n",
              "      <td>55618.18</td>\n",
              "      <td>55618.18</td>\n",
              "      <td>2.119230</td>\n",
              "    </tr>\n",
              "    <tr>\n",
              "      <th>33</th>\n",
              "      <td>1.618870e+12</td>\n",
              "      <td>4/19/2021 23:29</td>\n",
              "      <td>BTCUSD</td>\n",
              "      <td>55622.25</td>\n",
              "      <td>55735.33</td>\n",
              "      <td>55619.34</td>\n",
              "      <td>55621.81</td>\n",
              "      <td>5.044831</td>\n",
              "    </tr>\n",
              "    <tr>\n",
              "      <th>34</th>\n",
              "      <td>1.618870e+12</td>\n",
              "      <td>4/19/2021 23:28</td>\n",
              "      <td>BTCUSD</td>\n",
              "      <td>55636.47</td>\n",
              "      <td>55639.24</td>\n",
              "      <td>55617.18</td>\n",
              "      <td>55622.25</td>\n",
              "      <td>2.162905</td>\n",
              "    </tr>\n",
              "    <tr>\n",
              "      <th>35</th>\n",
              "      <td>1.618870e+12</td>\n",
              "      <td>4/19/2021 23:27</td>\n",
              "      <td>BTCUSD</td>\n",
              "      <td>55787.30</td>\n",
              "      <td>55787.30</td>\n",
              "      <td>55626.26</td>\n",
              "      <td>55636.47</td>\n",
              "      <td>4.746356</td>\n",
              "    </tr>\n",
              "    <tr>\n",
              "      <th>36</th>\n",
              "      <td>1.618870e+12</td>\n",
              "      <td>4/19/2021 23:26</td>\n",
              "      <td>BTCUSD</td>\n",
              "      <td>55807.00</td>\n",
              "      <td>55858.90</td>\n",
              "      <td>55777.03</td>\n",
              "      <td>55787.30</td>\n",
              "      <td>1.968117</td>\n",
              "    </tr>\n",
              "    <tr>\n",
              "      <th>37</th>\n",
              "      <td>1.618870e+12</td>\n",
              "      <td>4/19/2021 23:25</td>\n",
              "      <td>BTCUSD</td>\n",
              "      <td>55862.62</td>\n",
              "      <td>55888.32</td>\n",
              "      <td>55807.00</td>\n",
              "      <td>55807.00</td>\n",
              "      <td>0.353699</td>\n",
              "    </tr>\n",
              "    <tr>\n",
              "      <th>38</th>\n",
              "      <td>1.618870e+12</td>\n",
              "      <td>4/19/2021 23:24</td>\n",
              "      <td>BTCUSD</td>\n",
              "      <td>55898.65</td>\n",
              "      <td>55898.65</td>\n",
              "      <td>55853.40</td>\n",
              "      <td>55862.62</td>\n",
              "      <td>0.329919</td>\n",
              "    </tr>\n",
              "    <tr>\n",
              "      <th>39</th>\n",
              "      <td>1.618870e+12</td>\n",
              "      <td>4/19/2021 23:23</td>\n",
              "      <td>BTCUSD</td>\n",
              "      <td>55922.51</td>\n",
              "      <td>55922.51</td>\n",
              "      <td>55861.85</td>\n",
              "      <td>55898.65</td>\n",
              "      <td>0.908691</td>\n",
              "    </tr>\n",
              "    <tr>\n",
              "      <th>40</th>\n",
              "      <td>1.618870e+12</td>\n",
              "      <td>4/19/2021 23:22</td>\n",
              "      <td>BTCUSD</td>\n",
              "      <td>55873.32</td>\n",
              "      <td>55983.24</td>\n",
              "      <td>55873.32</td>\n",
              "      <td>55922.51</td>\n",
              "      <td>0.542775</td>\n",
              "    </tr>\n",
              "    <tr>\n",
              "      <th>41</th>\n",
              "      <td>1.618870e+12</td>\n",
              "      <td>4/19/2021 23:21</td>\n",
              "      <td>BTCUSD</td>\n",
              "      <td>55941.78</td>\n",
              "      <td>55943.33</td>\n",
              "      <td>55863.17</td>\n",
              "      <td>55873.32</td>\n",
              "      <td>0.300716</td>\n",
              "    </tr>\n",
              "    <tr>\n",
              "      <th>42</th>\n",
              "      <td>1.618870e+12</td>\n",
              "      <td>4/19/2021 23:20</td>\n",
              "      <td>BTCUSD</td>\n",
              "      <td>55924.78</td>\n",
              "      <td>56015.47</td>\n",
              "      <td>55924.78</td>\n",
              "      <td>55941.78</td>\n",
              "      <td>1.167648</td>\n",
              "    </tr>\n",
              "    <tr>\n",
              "      <th>43</th>\n",
              "      <td>1.618870e+12</td>\n",
              "      <td>4/19/2021 23:19</td>\n",
              "      <td>BTCUSD</td>\n",
              "      <td>55979.80</td>\n",
              "      <td>56002.57</td>\n",
              "      <td>55924.78</td>\n",
              "      <td>55924.78</td>\n",
              "      <td>0.427221</td>\n",
              "    </tr>\n",
              "    <tr>\n",
              "      <th>44</th>\n",
              "      <td>1.618870e+12</td>\n",
              "      <td>4/19/2021 23:18</td>\n",
              "      <td>BTCUSD</td>\n",
              "      <td>56057.59</td>\n",
              "      <td>56057.60</td>\n",
              "      <td>55979.79</td>\n",
              "      <td>55979.80</td>\n",
              "      <td>1.436675</td>\n",
              "    </tr>\n",
              "    <tr>\n",
              "      <th>45</th>\n",
              "      <td>1.618870e+12</td>\n",
              "      <td>4/19/2021 23:17</td>\n",
              "      <td>BTCUSD</td>\n",
              "      <td>56069.95</td>\n",
              "      <td>56069.95</td>\n",
              "      <td>56011.36</td>\n",
              "      <td>56057.59</td>\n",
              "      <td>0.155485</td>\n",
              "    </tr>\n",
              "    <tr>\n",
              "      <th>46</th>\n",
              "      <td>1.618870e+12</td>\n",
              "      <td>4/19/2021 23:16</td>\n",
              "      <td>BTCUSD</td>\n",
              "      <td>56035.42</td>\n",
              "      <td>56097.14</td>\n",
              "      <td>55994.64</td>\n",
              "      <td>56069.95</td>\n",
              "      <td>0.716990</td>\n",
              "    </tr>\n",
              "    <tr>\n",
              "      <th>47</th>\n",
              "      <td>1.618870e+12</td>\n",
              "      <td>4/19/2021 23:15</td>\n",
              "      <td>BTCUSD</td>\n",
              "      <td>56055.74</td>\n",
              "      <td>56055.74</td>\n",
              "      <td>56035.42</td>\n",
              "      <td>56035.42</td>\n",
              "      <td>0.484959</td>\n",
              "    </tr>\n",
              "    <tr>\n",
              "      <th>48</th>\n",
              "      <td>1.618870e+12</td>\n",
              "      <td>4/19/2021 23:14</td>\n",
              "      <td>BTCUSD</td>\n",
              "      <td>56057.16</td>\n",
              "      <td>56101.90</td>\n",
              "      <td>56035.42</td>\n",
              "      <td>56055.74</td>\n",
              "      <td>1.647866</td>\n",
              "    </tr>\n",
              "    <tr>\n",
              "      <th>49</th>\n",
              "      <td>1.618870e+12</td>\n",
              "      <td>4/19/2021 23:13</td>\n",
              "      <td>BTCUSD</td>\n",
              "      <td>56144.29</td>\n",
              "      <td>56144.29</td>\n",
              "      <td>56057.16</td>\n",
              "      <td>56057.16</td>\n",
              "      <td>0.596993</td>\n",
              "    </tr>\n",
              "  </tbody>\n",
              "</table>\n",
              "</div>"
            ],
            "text/plain": [
              "    Unix Timestamp             Date  Symbol  ...       Low     Close    Volume\n",
              "0     1.618880e+12   4/20/2021 0:02  BTCUSD  ...  55541.69  55541.69  2.406734\n",
              "1     1.618880e+12   4/20/2021 0:01  BTCUSD  ...  55711.74  55717.47  0.573458\n",
              "2     1.618880e+12   4/20/2021 0:00  BTCUSD  ...  55691.79  55768.94  3.309904\n",
              "3     1.618880e+12  4/19/2021 23:59  BTCUSD  ...  55677.92  55691.79  0.684934\n",
              "4     1.618880e+12  4/19/2021 23:58  BTCUSD  ...  55773.08  55777.86  0.477225\n",
              "5     1.618880e+12  4/19/2021 23:57  BTCUSD  ...  55682.56  55803.50  5.461717\n",
              "6     1.618880e+12  4/19/2021 23:56  BTCUSD  ...  55624.63  55690.64  0.696311\n",
              "7     1.618880e+12  4/19/2021 23:55  BTCUSD  ...  55621.58  55624.69  0.470161\n",
              "8     1.618880e+12  4/19/2021 23:54  BTCUSD  ...  55641.40  55651.82  0.456722\n",
              "9     1.618880e+12  4/19/2021 23:53  BTCUSD  ...  55688.08  55688.08  0.286419\n",
              "10    1.618880e+12  4/19/2021 23:52  BTCUSD  ...  55695.42  55749.28  0.524271\n",
              "11    1.618880e+12  4/19/2021 23:51  BTCUSD  ...  55688.66  55704.59  0.767228\n",
              "12    1.618880e+12  4/19/2021 23:50  BTCUSD  ...  55769.46  55779.38  3.533438\n",
              "13    1.618880e+12  4/19/2021 23:49  BTCUSD  ...  55797.08  55816.61  0.586631\n",
              "14    1.618880e+12  4/19/2021 23:48  BTCUSD  ...  55815.99  55843.69  6.059828\n",
              "15    1.618880e+12  4/19/2021 23:47  BTCUSD  ...  55826.84  55880.12  0.137561\n",
              "16    1.618880e+12  4/19/2021 23:46  BTCUSD  ...  55861.68  55890.88  0.211958\n",
              "17    1.618880e+12  4/19/2021 23:45  BTCUSD  ...  55748.47  55887.36  0.157408\n",
              "18    1.618880e+12  4/19/2021 23:44  BTCUSD  ...  55725.80  55748.47  1.819449\n",
              "19    1.618880e+12  4/19/2021 23:43  BTCUSD  ...  55770.34  55859.79  0.769526\n",
              "20    1.618880e+12  4/19/2021 23:42  BTCUSD  ...  55727.33  55770.34  1.926222\n",
              "21    1.618880e+12  4/19/2021 23:41  BTCUSD  ...  55651.65  55733.87  0.679018\n",
              "22    1.618880e+12  4/19/2021 23:40  BTCUSD  ...  55709.64  55733.44  2.043176\n",
              "23    1.618880e+12  4/19/2021 23:39  BTCUSD  ...  55709.64  55709.64  2.184543\n",
              "24    1.618880e+12  4/19/2021 23:38  BTCUSD  ...  55826.46  55826.46  1.157835\n",
              "25    1.618880e+12  4/19/2021 23:37  BTCUSD  ...  55815.02  55931.36  2.305510\n",
              "26    1.618880e+12  4/19/2021 23:36  BTCUSD  ...  55754.84  55829.23  1.945314\n",
              "27    1.618880e+12  4/19/2021 23:35  BTCUSD  ...  55725.52  55771.88  3.569378\n",
              "28    1.618880e+12  4/19/2021 23:34  BTCUSD  ...  55669.36  55763.48  3.721432\n",
              "29    1.618880e+12  4/19/2021 23:33  BTCUSD  ...  55667.18  55669.36  6.091782\n",
              "30    1.618880e+12  4/19/2021 23:32  BTCUSD  ...  55651.38  55692.41  2.153724\n",
              "31    1.618880e+12  4/19/2021 23:31  BTCUSD  ...  55617.68  55693.00  1.866298\n",
              "32    1.618880e+12  4/19/2021 23:30  BTCUSD  ...  55618.18  55618.18  2.119230\n",
              "33    1.618870e+12  4/19/2021 23:29  BTCUSD  ...  55619.34  55621.81  5.044831\n",
              "34    1.618870e+12  4/19/2021 23:28  BTCUSD  ...  55617.18  55622.25  2.162905\n",
              "35    1.618870e+12  4/19/2021 23:27  BTCUSD  ...  55626.26  55636.47  4.746356\n",
              "36    1.618870e+12  4/19/2021 23:26  BTCUSD  ...  55777.03  55787.30  1.968117\n",
              "37    1.618870e+12  4/19/2021 23:25  BTCUSD  ...  55807.00  55807.00  0.353699\n",
              "38    1.618870e+12  4/19/2021 23:24  BTCUSD  ...  55853.40  55862.62  0.329919\n",
              "39    1.618870e+12  4/19/2021 23:23  BTCUSD  ...  55861.85  55898.65  0.908691\n",
              "40    1.618870e+12  4/19/2021 23:22  BTCUSD  ...  55873.32  55922.51  0.542775\n",
              "41    1.618870e+12  4/19/2021 23:21  BTCUSD  ...  55863.17  55873.32  0.300716\n",
              "42    1.618870e+12  4/19/2021 23:20  BTCUSD  ...  55924.78  55941.78  1.167648\n",
              "43    1.618870e+12  4/19/2021 23:19  BTCUSD  ...  55924.78  55924.78  0.427221\n",
              "44    1.618870e+12  4/19/2021 23:18  BTCUSD  ...  55979.79  55979.80  1.436675\n",
              "45    1.618870e+12  4/19/2021 23:17  BTCUSD  ...  56011.36  56057.59  0.155485\n",
              "46    1.618870e+12  4/19/2021 23:16  BTCUSD  ...  55994.64  56069.95  0.716990\n",
              "47    1.618870e+12  4/19/2021 23:15  BTCUSD  ...  56035.42  56035.42  0.484959\n",
              "48    1.618870e+12  4/19/2021 23:14  BTCUSD  ...  56035.42  56055.74  1.647866\n",
              "49    1.618870e+12  4/19/2021 23:13  BTCUSD  ...  56057.16  56057.16  0.596993\n",
              "\n",
              "[50 rows x 8 columns]"
            ]
          },
          "metadata": {
            "tags": []
          },
          "execution_count": 3
        }
      ]
    },
    {
      "cell_type": "code",
      "metadata": {
        "colab": {
          "base_uri": "https://localhost:8080/"
        },
        "id": "Nt3rqJAovQsn",
        "outputId": "644e2c5b-e4d8-4e77-a1d5-ce3255be486e"
      },
      "source": [
        "# cek tipe data\n",
        "df.info()"
      ],
      "execution_count": null,
      "outputs": [
        {
          "output_type": "stream",
          "text": [
            "<class 'pandas.core.frame.DataFrame'>\n",
            "RangeIndex: 658065 entries, 0 to 658064\n",
            "Data columns (total 8 columns):\n",
            " #   Column          Non-Null Count   Dtype  \n",
            "---  ------          --------------   -----  \n",
            " 0   Unix Timestamp  658065 non-null  float64\n",
            " 1   Date            658065 non-null  object \n",
            " 2   Symbol          658065 non-null  object \n",
            " 3   Open            658065 non-null  float64\n",
            " 4   High            658065 non-null  float64\n",
            " 5   Low             658065 non-null  float64\n",
            " 6   Close           658065 non-null  float64\n",
            " 7   Volume          658065 non-null  float64\n",
            "dtypes: float64(6), object(2)\n",
            "memory usage: 40.2+ MB\n"
          ],
          "name": "stdout"
        }
      ]
    },
    {
      "cell_type": "code",
      "metadata": {
        "colab": {
          "base_uri": "https://localhost:8080/",
          "height": 299
        },
        "id": "OMEywikmvTiY",
        "outputId": "9c64b389-170c-4f40-a906-59bfe23fa13d"
      },
      "source": [
        "# cek deksriptif statistik\n",
        "df.describe()"
      ],
      "execution_count": null,
      "outputs": [
        {
          "output_type": "execute_result",
          "data": {
            "text/html": [
              "<div>\n",
              "<style scoped>\n",
              "    .dataframe tbody tr th:only-of-type {\n",
              "        vertical-align: middle;\n",
              "    }\n",
              "\n",
              "    .dataframe tbody tr th {\n",
              "        vertical-align: top;\n",
              "    }\n",
              "\n",
              "    .dataframe thead th {\n",
              "        text-align: right;\n",
              "    }\n",
              "</style>\n",
              "<table border=\"1\" class=\"dataframe\">\n",
              "  <thead>\n",
              "    <tr style=\"text-align: right;\">\n",
              "      <th></th>\n",
              "      <th>Unix Timestamp</th>\n",
              "      <th>Open</th>\n",
              "      <th>High</th>\n",
              "      <th>Low</th>\n",
              "      <th>Close</th>\n",
              "      <th>Volume</th>\n",
              "    </tr>\n",
              "  </thead>\n",
              "  <tbody>\n",
              "    <tr>\n",
              "      <th>count</th>\n",
              "      <td>6.580650e+05</td>\n",
              "      <td>658065.000000</td>\n",
              "      <td>658065.000000</td>\n",
              "      <td>658065.000000</td>\n",
              "      <td>658065.000000</td>\n",
              "      <td>658065.000000</td>\n",
              "    </tr>\n",
              "    <tr>\n",
              "      <th>mean</th>\n",
              "      <td>1.598615e+12</td>\n",
              "      <td>19816.056864</td>\n",
              "      <td>19828.754551</td>\n",
              "      <td>19803.078994</td>\n",
              "      <td>19816.127876</td>\n",
              "      <td>1.552492</td>\n",
              "    </tr>\n",
              "    <tr>\n",
              "      <th>std</th>\n",
              "      <td>1.188579e+10</td>\n",
              "      <td>16737.625576</td>\n",
              "      <td>16750.786597</td>\n",
              "      <td>16723.509939</td>\n",
              "      <td>16737.677688</td>\n",
              "      <td>6.235548</td>\n",
              "    </tr>\n",
              "    <tr>\n",
              "      <th>min</th>\n",
              "      <td>1.577840e+12</td>\n",
              "      <td>3935.290000</td>\n",
              "      <td>3939.260000</td>\n",
              "      <td>3901.250000</td>\n",
              "      <td>3935.290000</td>\n",
              "      <td>0.000000</td>\n",
              "    </tr>\n",
              "    <tr>\n",
              "      <th>25%</th>\n",
              "      <td>1.588310e+12</td>\n",
              "      <td>9177.940000</td>\n",
              "      <td>9180.000000</td>\n",
              "      <td>9176.310000</td>\n",
              "      <td>9177.940000</td>\n",
              "      <td>0.022162</td>\n",
              "    </tr>\n",
              "    <tr>\n",
              "      <th>50%</th>\n",
              "      <td>1.598790e+12</td>\n",
              "      <td>10936.110000</td>\n",
              "      <td>10939.210000</td>\n",
              "      <td>10932.980000</td>\n",
              "      <td>10936.150000</td>\n",
              "      <td>0.189712</td>\n",
              "    </tr>\n",
              "    <tr>\n",
              "      <th>75%</th>\n",
              "      <td>1.609000e+12</td>\n",
              "      <td>25741.490000</td>\n",
              "      <td>25755.150000</td>\n",
              "      <td>25724.100000</td>\n",
              "      <td>25743.160000</td>\n",
              "      <td>1.023481</td>\n",
              "    </tr>\n",
              "    <tr>\n",
              "      <th>max</th>\n",
              "      <td>1.618880e+12</td>\n",
              "      <td>64890.000000</td>\n",
              "      <td>64900.000000</td>\n",
              "      <td>64775.620000</td>\n",
              "      <td>64890.000000</td>\n",
              "      <td>1043.579964</td>\n",
              "    </tr>\n",
              "  </tbody>\n",
              "</table>\n",
              "</div>"
            ],
            "text/plain": [
              "       Unix Timestamp           Open  ...          Close         Volume\n",
              "count    6.580650e+05  658065.000000  ...  658065.000000  658065.000000\n",
              "mean     1.598615e+12   19816.056864  ...   19816.127876       1.552492\n",
              "std      1.188579e+10   16737.625576  ...   16737.677688       6.235548\n",
              "min      1.577840e+12    3935.290000  ...    3935.290000       0.000000\n",
              "25%      1.588310e+12    9177.940000  ...    9177.940000       0.022162\n",
              "50%      1.598790e+12   10936.110000  ...   10936.150000       0.189712\n",
              "75%      1.609000e+12   25741.490000  ...   25743.160000       1.023481\n",
              "max      1.618880e+12   64890.000000  ...   64890.000000    1043.579964\n",
              "\n",
              "[8 rows x 6 columns]"
            ]
          },
          "metadata": {
            "tags": []
          },
          "execution_count": 5
        }
      ]
    },
    {
      "cell_type": "code",
      "metadata": {
        "colab": {
          "base_uri": "https://localhost:8080/"
        },
        "id": "hM-n9Fu5vbFp",
        "outputId": "a11170e8-8322-42d3-ffd9-c8f742b19c86"
      },
      "source": [
        "# cek data missing value\n",
        "df.isnull().sum()"
      ],
      "execution_count": null,
      "outputs": [
        {
          "output_type": "execute_result",
          "data": {
            "text/plain": [
              "Unix Timestamp    0\n",
              "Date              0\n",
              "Symbol            0\n",
              "Open              0\n",
              "High              0\n",
              "Low               0\n",
              "Close             0\n",
              "Volume            0\n",
              "dtype: int64"
            ]
          },
          "metadata": {
            "tags": []
          },
          "execution_count": 6
        }
      ]
    },
    {
      "cell_type": "code",
      "metadata": {
        "colab": {
          "base_uri": "https://localhost:8080/",
          "height": 1000
        },
        "id": "2C7gIOcEvgUs",
        "outputId": "22d6828c-a3c5-4bcd-cf98-92eba32f3713"
      },
      "source": [
        "# hapus kolom yang tidak digunakan\n",
        "df.drop(['Open','High','Low', 'Symbol', 'Unix Timestamp'], axis=1, inplace=True)\n",
        "df.head(50)"
      ],
      "execution_count": null,
      "outputs": [
        {
          "output_type": "execute_result",
          "data": {
            "text/html": [
              "<div>\n",
              "<style scoped>\n",
              "    .dataframe tbody tr th:only-of-type {\n",
              "        vertical-align: middle;\n",
              "    }\n",
              "\n",
              "    .dataframe tbody tr th {\n",
              "        vertical-align: top;\n",
              "    }\n",
              "\n",
              "    .dataframe thead th {\n",
              "        text-align: right;\n",
              "    }\n",
              "</style>\n",
              "<table border=\"1\" class=\"dataframe\">\n",
              "  <thead>\n",
              "    <tr style=\"text-align: right;\">\n",
              "      <th></th>\n",
              "      <th>Date</th>\n",
              "      <th>Close</th>\n",
              "      <th>Volume</th>\n",
              "    </tr>\n",
              "  </thead>\n",
              "  <tbody>\n",
              "    <tr>\n",
              "      <th>0</th>\n",
              "      <td>4/20/2021 0:02</td>\n",
              "      <td>55541.69</td>\n",
              "      <td>2.406734</td>\n",
              "    </tr>\n",
              "    <tr>\n",
              "      <th>1</th>\n",
              "      <td>4/20/2021 0:01</td>\n",
              "      <td>55717.47</td>\n",
              "      <td>0.573458</td>\n",
              "    </tr>\n",
              "    <tr>\n",
              "      <th>2</th>\n",
              "      <td>4/20/2021 0:00</td>\n",
              "      <td>55768.94</td>\n",
              "      <td>3.309904</td>\n",
              "    </tr>\n",
              "    <tr>\n",
              "      <th>3</th>\n",
              "      <td>4/19/2021 23:59</td>\n",
              "      <td>55691.79</td>\n",
              "      <td>0.684934</td>\n",
              "    </tr>\n",
              "    <tr>\n",
              "      <th>4</th>\n",
              "      <td>4/19/2021 23:58</td>\n",
              "      <td>55777.86</td>\n",
              "      <td>0.477225</td>\n",
              "    </tr>\n",
              "    <tr>\n",
              "      <th>5</th>\n",
              "      <td>4/19/2021 23:57</td>\n",
              "      <td>55803.50</td>\n",
              "      <td>5.461717</td>\n",
              "    </tr>\n",
              "    <tr>\n",
              "      <th>6</th>\n",
              "      <td>4/19/2021 23:56</td>\n",
              "      <td>55690.64</td>\n",
              "      <td>0.696311</td>\n",
              "    </tr>\n",
              "    <tr>\n",
              "      <th>7</th>\n",
              "      <td>4/19/2021 23:55</td>\n",
              "      <td>55624.69</td>\n",
              "      <td>0.470161</td>\n",
              "    </tr>\n",
              "    <tr>\n",
              "      <th>8</th>\n",
              "      <td>4/19/2021 23:54</td>\n",
              "      <td>55651.82</td>\n",
              "      <td>0.456722</td>\n",
              "    </tr>\n",
              "    <tr>\n",
              "      <th>9</th>\n",
              "      <td>4/19/2021 23:53</td>\n",
              "      <td>55688.08</td>\n",
              "      <td>0.286419</td>\n",
              "    </tr>\n",
              "    <tr>\n",
              "      <th>10</th>\n",
              "      <td>4/19/2021 23:52</td>\n",
              "      <td>55749.28</td>\n",
              "      <td>0.524271</td>\n",
              "    </tr>\n",
              "    <tr>\n",
              "      <th>11</th>\n",
              "      <td>4/19/2021 23:51</td>\n",
              "      <td>55704.59</td>\n",
              "      <td>0.767228</td>\n",
              "    </tr>\n",
              "    <tr>\n",
              "      <th>12</th>\n",
              "      <td>4/19/2021 23:50</td>\n",
              "      <td>55779.38</td>\n",
              "      <td>3.533438</td>\n",
              "    </tr>\n",
              "    <tr>\n",
              "      <th>13</th>\n",
              "      <td>4/19/2021 23:49</td>\n",
              "      <td>55816.61</td>\n",
              "      <td>0.586631</td>\n",
              "    </tr>\n",
              "    <tr>\n",
              "      <th>14</th>\n",
              "      <td>4/19/2021 23:48</td>\n",
              "      <td>55843.69</td>\n",
              "      <td>6.059828</td>\n",
              "    </tr>\n",
              "    <tr>\n",
              "      <th>15</th>\n",
              "      <td>4/19/2021 23:47</td>\n",
              "      <td>55880.12</td>\n",
              "      <td>0.137561</td>\n",
              "    </tr>\n",
              "    <tr>\n",
              "      <th>16</th>\n",
              "      <td>4/19/2021 23:46</td>\n",
              "      <td>55890.88</td>\n",
              "      <td>0.211958</td>\n",
              "    </tr>\n",
              "    <tr>\n",
              "      <th>17</th>\n",
              "      <td>4/19/2021 23:45</td>\n",
              "      <td>55887.36</td>\n",
              "      <td>0.157408</td>\n",
              "    </tr>\n",
              "    <tr>\n",
              "      <th>18</th>\n",
              "      <td>4/19/2021 23:44</td>\n",
              "      <td>55748.47</td>\n",
              "      <td>1.819449</td>\n",
              "    </tr>\n",
              "    <tr>\n",
              "      <th>19</th>\n",
              "      <td>4/19/2021 23:43</td>\n",
              "      <td>55859.79</td>\n",
              "      <td>0.769526</td>\n",
              "    </tr>\n",
              "    <tr>\n",
              "      <th>20</th>\n",
              "      <td>4/19/2021 23:42</td>\n",
              "      <td>55770.34</td>\n",
              "      <td>1.926222</td>\n",
              "    </tr>\n",
              "    <tr>\n",
              "      <th>21</th>\n",
              "      <td>4/19/2021 23:41</td>\n",
              "      <td>55733.87</td>\n",
              "      <td>0.679018</td>\n",
              "    </tr>\n",
              "    <tr>\n",
              "      <th>22</th>\n",
              "      <td>4/19/2021 23:40</td>\n",
              "      <td>55733.44</td>\n",
              "      <td>2.043176</td>\n",
              "    </tr>\n",
              "    <tr>\n",
              "      <th>23</th>\n",
              "      <td>4/19/2021 23:39</td>\n",
              "      <td>55709.64</td>\n",
              "      <td>2.184543</td>\n",
              "    </tr>\n",
              "    <tr>\n",
              "      <th>24</th>\n",
              "      <td>4/19/2021 23:38</td>\n",
              "      <td>55826.46</td>\n",
              "      <td>1.157835</td>\n",
              "    </tr>\n",
              "    <tr>\n",
              "      <th>25</th>\n",
              "      <td>4/19/2021 23:37</td>\n",
              "      <td>55931.36</td>\n",
              "      <td>2.305510</td>\n",
              "    </tr>\n",
              "    <tr>\n",
              "      <th>26</th>\n",
              "      <td>4/19/2021 23:36</td>\n",
              "      <td>55829.23</td>\n",
              "      <td>1.945314</td>\n",
              "    </tr>\n",
              "    <tr>\n",
              "      <th>27</th>\n",
              "      <td>4/19/2021 23:35</td>\n",
              "      <td>55771.88</td>\n",
              "      <td>3.569378</td>\n",
              "    </tr>\n",
              "    <tr>\n",
              "      <th>28</th>\n",
              "      <td>4/19/2021 23:34</td>\n",
              "      <td>55763.48</td>\n",
              "      <td>3.721432</td>\n",
              "    </tr>\n",
              "    <tr>\n",
              "      <th>29</th>\n",
              "      <td>4/19/2021 23:33</td>\n",
              "      <td>55669.36</td>\n",
              "      <td>6.091782</td>\n",
              "    </tr>\n",
              "    <tr>\n",
              "      <th>30</th>\n",
              "      <td>4/19/2021 23:32</td>\n",
              "      <td>55692.41</td>\n",
              "      <td>2.153724</td>\n",
              "    </tr>\n",
              "    <tr>\n",
              "      <th>31</th>\n",
              "      <td>4/19/2021 23:31</td>\n",
              "      <td>55693.00</td>\n",
              "      <td>1.866298</td>\n",
              "    </tr>\n",
              "    <tr>\n",
              "      <th>32</th>\n",
              "      <td>4/19/2021 23:30</td>\n",
              "      <td>55618.18</td>\n",
              "      <td>2.119230</td>\n",
              "    </tr>\n",
              "    <tr>\n",
              "      <th>33</th>\n",
              "      <td>4/19/2021 23:29</td>\n",
              "      <td>55621.81</td>\n",
              "      <td>5.044831</td>\n",
              "    </tr>\n",
              "    <tr>\n",
              "      <th>34</th>\n",
              "      <td>4/19/2021 23:28</td>\n",
              "      <td>55622.25</td>\n",
              "      <td>2.162905</td>\n",
              "    </tr>\n",
              "    <tr>\n",
              "      <th>35</th>\n",
              "      <td>4/19/2021 23:27</td>\n",
              "      <td>55636.47</td>\n",
              "      <td>4.746356</td>\n",
              "    </tr>\n",
              "    <tr>\n",
              "      <th>36</th>\n",
              "      <td>4/19/2021 23:26</td>\n",
              "      <td>55787.30</td>\n",
              "      <td>1.968117</td>\n",
              "    </tr>\n",
              "    <tr>\n",
              "      <th>37</th>\n",
              "      <td>4/19/2021 23:25</td>\n",
              "      <td>55807.00</td>\n",
              "      <td>0.353699</td>\n",
              "    </tr>\n",
              "    <tr>\n",
              "      <th>38</th>\n",
              "      <td>4/19/2021 23:24</td>\n",
              "      <td>55862.62</td>\n",
              "      <td>0.329919</td>\n",
              "    </tr>\n",
              "    <tr>\n",
              "      <th>39</th>\n",
              "      <td>4/19/2021 23:23</td>\n",
              "      <td>55898.65</td>\n",
              "      <td>0.908691</td>\n",
              "    </tr>\n",
              "    <tr>\n",
              "      <th>40</th>\n",
              "      <td>4/19/2021 23:22</td>\n",
              "      <td>55922.51</td>\n",
              "      <td>0.542775</td>\n",
              "    </tr>\n",
              "    <tr>\n",
              "      <th>41</th>\n",
              "      <td>4/19/2021 23:21</td>\n",
              "      <td>55873.32</td>\n",
              "      <td>0.300716</td>\n",
              "    </tr>\n",
              "    <tr>\n",
              "      <th>42</th>\n",
              "      <td>4/19/2021 23:20</td>\n",
              "      <td>55941.78</td>\n",
              "      <td>1.167648</td>\n",
              "    </tr>\n",
              "    <tr>\n",
              "      <th>43</th>\n",
              "      <td>4/19/2021 23:19</td>\n",
              "      <td>55924.78</td>\n",
              "      <td>0.427221</td>\n",
              "    </tr>\n",
              "    <tr>\n",
              "      <th>44</th>\n",
              "      <td>4/19/2021 23:18</td>\n",
              "      <td>55979.80</td>\n",
              "      <td>1.436675</td>\n",
              "    </tr>\n",
              "    <tr>\n",
              "      <th>45</th>\n",
              "      <td>4/19/2021 23:17</td>\n",
              "      <td>56057.59</td>\n",
              "      <td>0.155485</td>\n",
              "    </tr>\n",
              "    <tr>\n",
              "      <th>46</th>\n",
              "      <td>4/19/2021 23:16</td>\n",
              "      <td>56069.95</td>\n",
              "      <td>0.716990</td>\n",
              "    </tr>\n",
              "    <tr>\n",
              "      <th>47</th>\n",
              "      <td>4/19/2021 23:15</td>\n",
              "      <td>56035.42</td>\n",
              "      <td>0.484959</td>\n",
              "    </tr>\n",
              "    <tr>\n",
              "      <th>48</th>\n",
              "      <td>4/19/2021 23:14</td>\n",
              "      <td>56055.74</td>\n",
              "      <td>1.647866</td>\n",
              "    </tr>\n",
              "    <tr>\n",
              "      <th>49</th>\n",
              "      <td>4/19/2021 23:13</td>\n",
              "      <td>56057.16</td>\n",
              "      <td>0.596993</td>\n",
              "    </tr>\n",
              "  </tbody>\n",
              "</table>\n",
              "</div>"
            ],
            "text/plain": [
              "               Date     Close    Volume\n",
              "0    4/20/2021 0:02  55541.69  2.406734\n",
              "1    4/20/2021 0:01  55717.47  0.573458\n",
              "2    4/20/2021 0:00  55768.94  3.309904\n",
              "3   4/19/2021 23:59  55691.79  0.684934\n",
              "4   4/19/2021 23:58  55777.86  0.477225\n",
              "5   4/19/2021 23:57  55803.50  5.461717\n",
              "6   4/19/2021 23:56  55690.64  0.696311\n",
              "7   4/19/2021 23:55  55624.69  0.470161\n",
              "8   4/19/2021 23:54  55651.82  0.456722\n",
              "9   4/19/2021 23:53  55688.08  0.286419\n",
              "10  4/19/2021 23:52  55749.28  0.524271\n",
              "11  4/19/2021 23:51  55704.59  0.767228\n",
              "12  4/19/2021 23:50  55779.38  3.533438\n",
              "13  4/19/2021 23:49  55816.61  0.586631\n",
              "14  4/19/2021 23:48  55843.69  6.059828\n",
              "15  4/19/2021 23:47  55880.12  0.137561\n",
              "16  4/19/2021 23:46  55890.88  0.211958\n",
              "17  4/19/2021 23:45  55887.36  0.157408\n",
              "18  4/19/2021 23:44  55748.47  1.819449\n",
              "19  4/19/2021 23:43  55859.79  0.769526\n",
              "20  4/19/2021 23:42  55770.34  1.926222\n",
              "21  4/19/2021 23:41  55733.87  0.679018\n",
              "22  4/19/2021 23:40  55733.44  2.043176\n",
              "23  4/19/2021 23:39  55709.64  2.184543\n",
              "24  4/19/2021 23:38  55826.46  1.157835\n",
              "25  4/19/2021 23:37  55931.36  2.305510\n",
              "26  4/19/2021 23:36  55829.23  1.945314\n",
              "27  4/19/2021 23:35  55771.88  3.569378\n",
              "28  4/19/2021 23:34  55763.48  3.721432\n",
              "29  4/19/2021 23:33  55669.36  6.091782\n",
              "30  4/19/2021 23:32  55692.41  2.153724\n",
              "31  4/19/2021 23:31  55693.00  1.866298\n",
              "32  4/19/2021 23:30  55618.18  2.119230\n",
              "33  4/19/2021 23:29  55621.81  5.044831\n",
              "34  4/19/2021 23:28  55622.25  2.162905\n",
              "35  4/19/2021 23:27  55636.47  4.746356\n",
              "36  4/19/2021 23:26  55787.30  1.968117\n",
              "37  4/19/2021 23:25  55807.00  0.353699\n",
              "38  4/19/2021 23:24  55862.62  0.329919\n",
              "39  4/19/2021 23:23  55898.65  0.908691\n",
              "40  4/19/2021 23:22  55922.51  0.542775\n",
              "41  4/19/2021 23:21  55873.32  0.300716\n",
              "42  4/19/2021 23:20  55941.78  1.167648\n",
              "43  4/19/2021 23:19  55924.78  0.427221\n",
              "44  4/19/2021 23:18  55979.80  1.436675\n",
              "45  4/19/2021 23:17  56057.59  0.155485\n",
              "46  4/19/2021 23:16  56069.95  0.716990\n",
              "47  4/19/2021 23:15  56035.42  0.484959\n",
              "48  4/19/2021 23:14  56055.74  1.647866\n",
              "49  4/19/2021 23:13  56057.16  0.596993"
            ]
          },
          "metadata": {
            "tags": []
          },
          "execution_count": 7
        }
      ]
    },
    {
      "cell_type": "code",
      "metadata": {
        "colab": {
          "base_uri": "https://localhost:8080/",
          "height": 422
        },
        "id": "WMlAXcAVvyn3",
        "outputId": "72cf2325-9627-45c0-cd18-4e6d305d0633"
      },
      "source": [
        "# conversi tanggal\n",
        "df['Date'] = pd.to_datetime(df['Date'], format='%m/%d/%Y %H:%M')\n",
        "df"
      ],
      "execution_count": null,
      "outputs": [
        {
          "output_type": "execute_result",
          "data": {
            "text/html": [
              "<div>\n",
              "<style scoped>\n",
              "    .dataframe tbody tr th:only-of-type {\n",
              "        vertical-align: middle;\n",
              "    }\n",
              "\n",
              "    .dataframe tbody tr th {\n",
              "        vertical-align: top;\n",
              "    }\n",
              "\n",
              "    .dataframe thead th {\n",
              "        text-align: right;\n",
              "    }\n",
              "</style>\n",
              "<table border=\"1\" class=\"dataframe\">\n",
              "  <thead>\n",
              "    <tr style=\"text-align: right;\">\n",
              "      <th></th>\n",
              "      <th>Date</th>\n",
              "      <th>Close</th>\n",
              "      <th>Volume</th>\n",
              "    </tr>\n",
              "  </thead>\n",
              "  <tbody>\n",
              "    <tr>\n",
              "      <th>0</th>\n",
              "      <td>2021-04-20 00:02:00</td>\n",
              "      <td>55541.69</td>\n",
              "      <td>2.406734</td>\n",
              "    </tr>\n",
              "    <tr>\n",
              "      <th>1</th>\n",
              "      <td>2021-04-20 00:01:00</td>\n",
              "      <td>55717.47</td>\n",
              "      <td>0.573458</td>\n",
              "    </tr>\n",
              "    <tr>\n",
              "      <th>2</th>\n",
              "      <td>2021-04-20 00:00:00</td>\n",
              "      <td>55768.94</td>\n",
              "      <td>3.309904</td>\n",
              "    </tr>\n",
              "    <tr>\n",
              "      <th>3</th>\n",
              "      <td>2021-04-19 23:59:00</td>\n",
              "      <td>55691.79</td>\n",
              "      <td>0.684934</td>\n",
              "    </tr>\n",
              "    <tr>\n",
              "      <th>4</th>\n",
              "      <td>2021-04-19 23:58:00</td>\n",
              "      <td>55777.86</td>\n",
              "      <td>0.477225</td>\n",
              "    </tr>\n",
              "    <tr>\n",
              "      <th>...</th>\n",
              "      <td>...</td>\n",
              "      <td>...</td>\n",
              "      <td>...</td>\n",
              "    </tr>\n",
              "    <tr>\n",
              "      <th>658060</th>\n",
              "      <td>2020-01-01 00:04:00</td>\n",
              "      <td>7163.00</td>\n",
              "      <td>1.751844</td>\n",
              "    </tr>\n",
              "    <tr>\n",
              "      <th>658061</th>\n",
              "      <td>2020-01-01 00:03:00</td>\n",
              "      <td>7163.60</td>\n",
              "      <td>0.002706</td>\n",
              "    </tr>\n",
              "    <tr>\n",
              "      <th>658062</th>\n",
              "      <td>2020-01-01 00:02:00</td>\n",
              "      <td>7163.00</td>\n",
              "      <td>0.063904</td>\n",
              "    </tr>\n",
              "    <tr>\n",
              "      <th>658063</th>\n",
              "      <td>2020-01-01 00:01:00</td>\n",
              "      <td>7163.30</td>\n",
              "      <td>0.002646</td>\n",
              "    </tr>\n",
              "    <tr>\n",
              "      <th>658064</th>\n",
              "      <td>2020-01-01 00:00:00</td>\n",
              "      <td>7163.30</td>\n",
              "      <td>0.007931</td>\n",
              "    </tr>\n",
              "  </tbody>\n",
              "</table>\n",
              "<p>658065 rows × 3 columns</p>\n",
              "</div>"
            ],
            "text/plain": [
              "                      Date     Close    Volume\n",
              "0      2021-04-20 00:02:00  55541.69  2.406734\n",
              "1      2021-04-20 00:01:00  55717.47  0.573458\n",
              "2      2021-04-20 00:00:00  55768.94  3.309904\n",
              "3      2021-04-19 23:59:00  55691.79  0.684934\n",
              "4      2021-04-19 23:58:00  55777.86  0.477225\n",
              "...                    ...       ...       ...\n",
              "658060 2020-01-01 00:04:00   7163.00  1.751844\n",
              "658061 2020-01-01 00:03:00   7163.60  0.002706\n",
              "658062 2020-01-01 00:02:00   7163.00  0.063904\n",
              "658063 2020-01-01 00:01:00   7163.30  0.002646\n",
              "658064 2020-01-01 00:00:00   7163.30  0.007931\n",
              "\n",
              "[658065 rows x 3 columns]"
            ]
          },
          "metadata": {
            "tags": []
          },
          "execution_count": 8
        }
      ]
    },
    {
      "cell_type": "code",
      "metadata": {
        "colab": {
          "base_uri": "https://localhost:8080/",
          "height": 290
        },
        "id": "_wpSIIJKxW2E",
        "outputId": "32d57359-6c48-49a7-9f2c-d8862dfb4d95"
      },
      "source": [
        "# plot data cloasing average\n",
        "dates = df['Date'].values\n",
        "close  = df['Close'].values\n",
        "\n",
        "plt.figure(figsize=(15,5))\n",
        "plt.plot(dates, close)\n",
        "plt.title('Closing Average',\n",
        "          fontsize=20);"
      ],
      "execution_count": null,
      "outputs": [
        {
          "output_type": "display_data",
          "data": {
            "image/png": "[encoded data removed]",
            "text/plain": [
              "<Figure size 1080x360 with 1 Axes>"
            ]
          },
          "metadata": {
            "tags": [],
            "needs_background": "light"
          }
        }
      ]
    },
    {
      "cell_type": "code",
      "metadata": {
        "id": "4MMPgCMXymt5"
      },
      "source": [
        "# split dataset 20%\n",
        "x_train, x_test, y_train, y_test = train_test_split(close, dates, test_size = 0.2, random_state=0, shuffle=False)\n"
      ],
      "execution_count": null,
      "outputs": []
    },
    {
      "cell_type": "code",
      "metadata": {
        "colab": {
          "base_uri": "https://localhost:8080/"
        },
        "id": "4fewcMCGz7eu",
        "outputId": "dd264e88-d305-4500-f5ac-18b61d2ea127"
      },
      "source": [
        "# cek shape\n",
        "print(x_train.shape)\n",
        "print(x_test.shape)\n",
        "print(y_train.shape)\n",
        "print(y_test.shape)"
      ],
      "execution_count": null,
      "outputs": [
        {
          "output_type": "stream",
          "text": [
            "(526452,)\n",
            "(131613,)\n",
            "(526452,)\n",
            "(131613,)\n"
          ],
          "name": "stdout"
        }
      ]
    },
    {
      "cell_type": "code",
      "metadata": {
        "id": "_x8vq53j0RM7"
      },
      "source": [
        "# Fungsi ini untuk menerima sebuah series/atribut kita yang telah di konversi \n",
        "# menjadi tipe numpy, lalu mengembalikan label dan atribut dari dataset dalam \n",
        "# bentuk batch.\n",
        "def windowed_dataset(series, window_size, batch_size, shuffle_buffer):\n",
        "    series = tf.expand_dims(series, axis=-1)\n",
        "    ds = tf.data.Dataset.from_tensor_slices(series)\n",
        "    ds = ds.window(window_size + 1, shift=1, drop_remainder=True)\n",
        "    ds = ds.flat_map(lambda w: w.batch(window_size + 1))\n",
        "    ds = ds.shuffle(shuffle_buffer)\n",
        "    ds = ds.map(lambda w: (w[:-1], w[-1:]))\n",
        "    return ds.batch(batch_size).prefetch(1)"
      ],
      "execution_count": null,
      "outputs": []
    },
    {
      "cell_type": "code",
      "metadata": {
        "id": "waSAIoyN0VDK"
      },
      "source": [
        "# x_train dan x_test di konversi dengan fungsi windowed dataset agar dapat digunakan dalam model\n",
        "train_set = windowed_dataset(x_train, window_size=60, batch_size=100, shuffle_buffer=1000)\n",
        "val_set = windowed_dataset(x_test, window_size=60, batch_size=100, shuffle_buffer=1000)"
      ],
      "execution_count": null,
      "outputs": []
    },
    {
      "cell_type": "code",
      "metadata": {
        "id": "QVaSmE8-1GBk"
      },
      "source": [
        "# membuat model dengan 2 lstm\n",
        "model = tf.keras.models.Sequential([\n",
        "  tf.keras.layers.LSTM(60, return_sequences=True),\n",
        "  tf.keras.layers.LSTM(60),\n",
        "  tf.keras.layers.Dense(30, activation=\"relu\"),\n",
        "  tf.keras.layers.Dense(10, activation=\"relu\"),\n",
        "  tf.keras.layers.Dense(1),\n",
        "])"
      ],
      "execution_count": null,
      "outputs": []
    },
    {
      "cell_type": "code",
      "metadata": {
        "colab": {
          "base_uri": "https://localhost:8080/"
        },
        "id": "n74UzIgR2BWn",
        "outputId": "18477231-02f7-410c-f590-9f12453a32a3"
      },
      "source": [
        "# membuat optimizer dengan learning rate, loss function menggunakan hubber dan metric mae\n",
        "optimizer = tf.keras.optimizers.SGD(lr=1.0000e-04, momentum=0.9)\n",
        "model.compile(loss=tf.keras.losses.Huber(),\n",
        "              optimizer=optimizer,\n",
        "              metrics=[\"mae\"])"
      ],
      "execution_count": null,
      "outputs": [
        {
          "output_type": "stream",
          "text": [
            "/usr/local/lib/python3.7/dist-packages/tensorflow/python/keras/optimizer_v2/optimizer_v2.py:375: UserWarning: The `lr` argument is deprecated, use `learning_rate` instead.\n",
            "  \"The `lr` argument is deprecated, use `learning_rate` instead.\")\n"
          ],
          "name": "stderr"
        }
      ]
    },
    {
      "cell_type": "code",
      "metadata": {
        "colab": {
          "base_uri": "https://localhost:8080/"
        },
        "id": "V-ZdZToy5lVL",
        "outputId": "af045c29-39eb-4d69-bb19-2673695ee277"
      },
      "source": [
        "# menghitung mae sesuai kriteria yaitu 10%\n",
        "min_mae = (max(close) - min(close)) * 0.1\n",
        "min_mae"
      ],
      "execution_count": null,
      "outputs": [
        {
          "output_type": "execute_result",
          "data": {
            "text/plain": [
              "6095.4710000000005"
            ]
          },
          "metadata": {
            "tags": []
          },
          "execution_count": 40
        }
      ]
    },
    {
      "cell_type": "code",
      "metadata": {
        "id": "gpH3SPnM7k7R"
      },
      "source": [
        "# membuat class callback untuk memberhentikan training ketika mae sudah mencapai kurang dari 10%\n",
        "#  callback ini tidak digunakan karena ingin membuat plot yang lebih dari satu epoch\n",
        "#  jika callback ini digunakan akan berhenti pada satu epoch dan untuk digunakan di plot tidak bagus\n",
        "class myCallback(tf.keras.callbacks.Callback):\n",
        "  def on_epoch_end(self, epoch, logs={}):\n",
        "    if(logs.get('mae')<min_mae):\n",
        "      print(\"\\n Telah mencapai MAE <10%! \\n\")\n",
        "      self.model.stop_training = True\n",
        "callbacks = myCallback()"
      ],
      "execution_count": null,
      "outputs": []
    },
    {
      "cell_type": "code",
      "metadata": {
        "id": "jV3BWm10MmID"
      },
      "source": [
        "# callback ReduceLROnPlateau \n",
        "reduce_lr = ReduceLROnPlateau(monitor='val_loss', factor=0.2,\n",
        "                              patience=5, min_lr=0.0001)\n",
        "\n",
        "# callback ModelCheckPoint dan early stopping \n",
        "check = 'ML-Dicoding-Check'\n",
        "path = F\"/content/drive/MyDrive/SubmissionDicodingPengembanganML/{check}\"\n",
        "\n",
        "\n",
        "checkpoint = tf.keras.callbacks.ModelCheckpoint(path, \n",
        "                                                monitor='val_loss', \n",
        "                                                verbose=2,\n",
        "                                                save_best_only=False, \n",
        "                                                save_weights_only=False, \n",
        "                                                mode='auto', \n",
        "                                                save_freq='epoch', \n",
        "                                                options=None)\n"
      ],
      "execution_count": null,
      "outputs": []
    },
    {
      "cell_type": "code",
      "metadata": {
        "colab": {
          "base_uri": "https://localhost:8080/"
        },
        "id": "mrQP35Q12YmF",
        "outputId": "77e7b4c2-42b2-4c1c-cdf9-c4a54028c407"
      },
      "source": [
        "# training data dengan epock 10\n",
        "epochs = 10\n",
        "history = model.fit(train_set,validation_data=val_set,\n",
        "                    epochs=epochs, \n",
        "                    callbacks=[checkpoint,\n",
        "                    ReduceLROnPlateau(monitor='val_loss', factor=0.2, patience=5, min_lr=0.0001)\n",
        "                              ])"
      ],
      "execution_count": null,
      "outputs": [
        {
          "output_type": "stream",
          "text": [
            "Epoch 1/10\n",
            "5264/5264 [==============================] - 570s 108ms/step - loss: 492.2539 - mae: 492.7521 - val_loss: 1550.8822 - val_mae: 1551.3806\n",
            "\n",
            "Epoch 00001: saving model to /content/drive/MyDrive/SubmissionDicodingPengembanganML/ML-Dicoding-Check\n"
          ],
          "name": "stdout"
        },
        {
          "output_type": "stream",
          "text": [
            "WARNING:absl:Found untraced functions such as lstm_cell_layer_call_fn, lstm_cell_layer_call_and_return_conditional_losses, lstm_cell_1_layer_call_fn, lstm_cell_1_layer_call_and_return_conditional_losses, lstm_cell_layer_call_fn while saving (showing 5 of 10). These functions will not be directly callable after loading.\n"
          ],
          "name": "stderr"
        },
        {
          "output_type": "stream",
          "text": [
            "INFO:tensorflow:Assets written to: /content/drive/MyDrive/SubmissionDicodingPengembanganML/ML-Dicoding-Check/assets\n"
          ],
          "name": "stdout"
        },
        {
          "output_type": "stream",
          "text": [
            "INFO:tensorflow:Assets written to: /content/drive/MyDrive/SubmissionDicodingPengembanganML/ML-Dicoding-Check/assets\n"
          ],
          "name": "stderr"
        },
        {
          "output_type": "stream",
          "text": [
            "Epoch 2/10\n",
            "5264/5264 [==============================] - 569s 108ms/step - loss: 680.7283 - mae: 681.2246 - val_loss: 1500.0120 - val_mae: 1500.5122\n",
            "\n",
            "Epoch 00002: saving model to /content/drive/MyDrive/SubmissionDicodingPengembanganML/ML-Dicoding-Check\n"
          ],
          "name": "stdout"
        },
        {
          "output_type": "stream",
          "text": [
            "WARNING:absl:Found untraced functions such as lstm_cell_layer_call_fn, lstm_cell_layer_call_and_return_conditional_losses, lstm_cell_1_layer_call_fn, lstm_cell_1_layer_call_and_return_conditional_losses, lstm_cell_layer_call_fn while saving (showing 5 of 10). These functions will not be directly callable after loading.\n"
          ],
          "name": "stderr"
        },
        {
          "output_type": "stream",
          "text": [
            "INFO:tensorflow:Assets written to: /content/drive/MyDrive/SubmissionDicodingPengembanganML/ML-Dicoding-Check/assets\n"
          ],
          "name": "stdout"
        },
        {
          "output_type": "stream",
          "text": [
            "INFO:tensorflow:Assets written to: /content/drive/MyDrive/SubmissionDicodingPengembanganML/ML-Dicoding-Check/assets\n"
          ],
          "name": "stderr"
        },
        {
          "output_type": "stream",
          "text": [
            "Epoch 3/10\n",
            "5264/5264 [==============================] - 571s 108ms/step - loss: 683.7164 - mae: 684.2147 - val_loss: 1532.8608 - val_mae: 1533.3600\n",
            "\n",
            "Epoch 00003: saving model to /content/drive/MyDrive/SubmissionDicodingPengembanganML/ML-Dicoding-Check\n"
          ],
          "name": "stdout"
        },
        {
          "output_type": "stream",
          "text": [
            "WARNING:absl:Found untraced functions such as lstm_cell_layer_call_fn, lstm_cell_layer_call_and_return_conditional_losses, lstm_cell_1_layer_call_fn, lstm_cell_1_layer_call_and_return_conditional_losses, lstm_cell_layer_call_fn while saving (showing 5 of 10). These functions will not be directly callable after loading.\n"
          ],
          "name": "stderr"
        },
        {
          "output_type": "stream",
          "text": [
            "INFO:tensorflow:Assets written to: /content/drive/MyDrive/SubmissionDicodingPengembanganML/ML-Dicoding-Check/assets\n"
          ],
          "name": "stdout"
        },
        {
          "output_type": "stream",
          "text": [
            "INFO:tensorflow:Assets written to: /content/drive/MyDrive/SubmissionDicodingPengembanganML/ML-Dicoding-Check/assets\n"
          ],
          "name": "stderr"
        },
        {
          "output_type": "stream",
          "text": [
            "Epoch 4/10\n",
            "5264/5264 [==============================] - 578s 110ms/step - loss: 681.7635 - mae: 682.2621 - val_loss: 1514.3590 - val_mae: 1514.8580\n",
            "\n",
            "Epoch 00004: saving model to /content/drive/MyDrive/SubmissionDicodingPengembanganML/ML-Dicoding-Check\n"
          ],
          "name": "stdout"
        },
        {
          "output_type": "stream",
          "text": [
            "WARNING:absl:Found untraced functions such as lstm_cell_layer_call_fn, lstm_cell_layer_call_and_return_conditional_losses, lstm_cell_1_layer_call_fn, lstm_cell_1_layer_call_and_return_conditional_losses, lstm_cell_layer_call_fn while saving (showing 5 of 10). These functions will not be directly callable after loading.\n"
          ],
          "name": "stderr"
        },
        {
          "output_type": "stream",
          "text": [
            "INFO:tensorflow:Assets written to: /content/drive/MyDrive/SubmissionDicodingPengembanganML/ML-Dicoding-Check/assets\n"
          ],
          "name": "stdout"
        },
        {
          "output_type": "stream",
          "text": [
            "INFO:tensorflow:Assets written to: /content/drive/MyDrive/SubmissionDicodingPengembanganML/ML-Dicoding-Check/assets\n"
          ],
          "name": "stderr"
        },
        {
          "output_type": "stream",
          "text": [
            "Epoch 5/10\n",
            "5264/5264 [==============================] - 572s 109ms/step - loss: 696.8376 - mae: 697.3369 - val_loss: 1550.4482 - val_mae: 1550.9478\n",
            "\n",
            "Epoch 00005: saving model to /content/drive/MyDrive/SubmissionDicodingPengembanganML/ML-Dicoding-Check\n"
          ],
          "name": "stdout"
        },
        {
          "output_type": "stream",
          "text": [
            "WARNING:absl:Found untraced functions such as lstm_cell_layer_call_fn, lstm_cell_layer_call_and_return_conditional_losses, lstm_cell_1_layer_call_fn, lstm_cell_1_layer_call_and_return_conditional_losses, lstm_cell_layer_call_fn while saving (showing 5 of 10). These functions will not be directly callable after loading.\n"
          ],
          "name": "stderr"
        },
        {
          "output_type": "stream",
          "text": [
            "INFO:tensorflow:Assets written to: /content/drive/MyDrive/SubmissionDicodingPengembanganML/ML-Dicoding-Check/assets\n"
          ],
          "name": "stdout"
        },
        {
          "output_type": "stream",
          "text": [
            "INFO:tensorflow:Assets written to: /content/drive/MyDrive/SubmissionDicodingPengembanganML/ML-Dicoding-Check/assets\n"
          ],
          "name": "stderr"
        },
        {
          "output_type": "stream",
          "text": [
            "Epoch 6/10\n",
            "5264/5264 [==============================] - 574s 109ms/step - loss: 692.3821 - mae: 692.8829 - val_loss: 1524.5952 - val_mae: 1525.0973\n",
            "\n",
            "Epoch 00006: saving model to /content/drive/MyDrive/SubmissionDicodingPengembanganML/ML-Dicoding-Check\n"
          ],
          "name": "stdout"
        },
        {
          "output_type": "stream",
          "text": [
            "WARNING:absl:Found untraced functions such as lstm_cell_layer_call_fn, lstm_cell_layer_call_and_return_conditional_losses, lstm_cell_1_layer_call_fn, lstm_cell_1_layer_call_and_return_conditional_losses, lstm_cell_layer_call_fn while saving (showing 5 of 10). These functions will not be directly callable after loading.\n"
          ],
          "name": "stderr"
        },
        {
          "output_type": "stream",
          "text": [
            "INFO:tensorflow:Assets written to: /content/drive/MyDrive/SubmissionDicodingPengembanganML/ML-Dicoding-Check/assets\n"
          ],
          "name": "stdout"
        },
        {
          "output_type": "stream",
          "text": [
            "INFO:tensorflow:Assets written to: /content/drive/MyDrive/SubmissionDicodingPengembanganML/ML-Dicoding-Check/assets\n"
          ],
          "name": "stderr"
        },
        {
          "output_type": "stream",
          "text": [
            "Epoch 7/10\n",
            "5264/5264 [==============================] - 576s 109ms/step - loss: 704.8218 - mae: 705.3223 - val_loss: 1507.2869 - val_mae: 1507.7882\n",
            "\n",
            "Epoch 00007: saving model to /content/drive/MyDrive/SubmissionDicodingPengembanganML/ML-Dicoding-Check\n"
          ],
          "name": "stdout"
        },
        {
          "output_type": "stream",
          "text": [
            "WARNING:absl:Found untraced functions such as lstm_cell_layer_call_fn, lstm_cell_layer_call_and_return_conditional_losses, lstm_cell_1_layer_call_fn, lstm_cell_1_layer_call_and_return_conditional_losses, lstm_cell_layer_call_fn while saving (showing 5 of 10). These functions will not be directly callable after loading.\n"
          ],
          "name": "stderr"
        },
        {
          "output_type": "stream",
          "text": [
            "INFO:tensorflow:Assets written to: /content/drive/MyDrive/SubmissionDicodingPengembanganML/ML-Dicoding-Check/assets\n"
          ],
          "name": "stdout"
        },
        {
          "output_type": "stream",
          "text": [
            "INFO:tensorflow:Assets written to: /content/drive/MyDrive/SubmissionDicodingPengembanganML/ML-Dicoding-Check/assets\n"
          ],
          "name": "stderr"
        },
        {
          "output_type": "stream",
          "text": [
            "Epoch 8/10\n",
            "5264/5264 [==============================] - 571s 108ms/step - loss: 681.1450 - mae: 681.6469 - val_loss: 1473.4197 - val_mae: 1473.9192\n",
            "\n",
            "Epoch 00008: saving model to /content/drive/MyDrive/SubmissionDicodingPengembanganML/ML-Dicoding-Check\n"
          ],
          "name": "stdout"
        },
        {
          "output_type": "stream",
          "text": [
            "WARNING:absl:Found untraced functions such as lstm_cell_layer_call_fn, lstm_cell_layer_call_and_return_conditional_losses, lstm_cell_1_layer_call_fn, lstm_cell_1_layer_call_and_return_conditional_losses, lstm_cell_layer_call_fn while saving (showing 5 of 10). These functions will not be directly callable after loading.\n"
          ],
          "name": "stderr"
        },
        {
          "output_type": "stream",
          "text": [
            "INFO:tensorflow:Assets written to: /content/drive/MyDrive/SubmissionDicodingPengembanganML/ML-Dicoding-Check/assets\n"
          ],
          "name": "stdout"
        },
        {
          "output_type": "stream",
          "text": [
            "INFO:tensorflow:Assets written to: /content/drive/MyDrive/SubmissionDicodingPengembanganML/ML-Dicoding-Check/assets\n"
          ],
          "name": "stderr"
        },
        {
          "output_type": "stream",
          "text": [
            "Epoch 9/10\n",
            "5264/5264 [==============================] - 572s 109ms/step - loss: 649.4118 - mae: 649.9102 - val_loss: 1512.7537 - val_mae: 1513.2528\n",
            "\n",
            "Epoch 00009: saving model to /content/drive/MyDrive/SubmissionDicodingPengembanganML/ML-Dicoding-Check\n"
          ],
          "name": "stdout"
        },
        {
          "output_type": "stream",
          "text": [
            "WARNING:absl:Found untraced functions such as lstm_cell_layer_call_fn, lstm_cell_layer_call_and_return_conditional_losses, lstm_cell_1_layer_call_fn, lstm_cell_1_layer_call_and_return_conditional_losses, lstm_cell_layer_call_fn while saving (showing 5 of 10). These functions will not be directly callable after loading.\n"
          ],
          "name": "stderr"
        },
        {
          "output_type": "stream",
          "text": [
            "INFO:tensorflow:Assets written to: /content/drive/MyDrive/SubmissionDicodingPengembanganML/ML-Dicoding-Check/assets\n"
          ],
          "name": "stdout"
        },
        {
          "output_type": "stream",
          "text": [
            "INFO:tensorflow:Assets written to: /content/drive/MyDrive/SubmissionDicodingPengembanganML/ML-Dicoding-Check/assets\n"
          ],
          "name": "stderr"
        },
        {
          "output_type": "stream",
          "text": [
            "Epoch 10/10\n",
            "5264/5264 [==============================] - 577s 110ms/step - loss: 689.5376 - mae: 690.0361 - val_loss: 1512.3768 - val_mae: 1512.8777\n",
            "\n",
            "Epoch 00010: saving model to /content/drive/MyDrive/SubmissionDicodingPengembanganML/ML-Dicoding-Check\n"
          ],
          "name": "stdout"
        },
        {
          "output_type": "stream",
          "text": [
            "WARNING:absl:Found untraced functions such as lstm_cell_layer_call_fn, lstm_cell_layer_call_and_return_conditional_losses, lstm_cell_1_layer_call_fn, lstm_cell_1_layer_call_and_return_conditional_losses, lstm_cell_layer_call_fn while saving (showing 5 of 10). These functions will not be directly callable after loading.\n"
          ],
          "name": "stderr"
        },
        {
          "output_type": "stream",
          "text": [
            "INFO:tensorflow:Assets written to: /content/drive/MyDrive/SubmissionDicodingPengembanganML/ML-Dicoding-Check/assets\n"
          ],
          "name": "stdout"
        },
        {
          "output_type": "stream",
          "text": [
            "INFO:tensorflow:Assets written to: /content/drive/MyDrive/SubmissionDicodingPengembanganML/ML-Dicoding-Check/assets\n"
          ],
          "name": "stderr"
        }
      ]
    },
    {
      "cell_type": "code",
      "metadata": {
        "colab": {
          "base_uri": "https://localhost:8080/",
          "height": 313
        },
        "id": "ONKjpNqZuQRl",
        "outputId": "151b3f15-c194-44c1-86dc-2132e6531b7d"
      },
      "source": [
        "#Plot mae\n",
        "# karena epoch nya hanya satu jadi plot tidak terlihat \n",
        "plt.plot(history.history['mae'], label='Training mae')\n",
        "plt.plot(history.history['val_mae'], label='Validation mae')\n",
        "plt.title('model mae')\n",
        "plt.ylabel('mae')\n",
        "plt.xlabel('epoch')\n",
        "plt.legend()"
      ],
      "execution_count": null,
      "outputs": [
        {
          "output_type": "execute_result",
          "data": {
            "text/plain": [
              "<matplotlib.legend.Legend at 0x7f1ffbc71850>"
            ]
          },
          "metadata": {
            "tags": []
          },
          "execution_count": 58
        },
        {
          "output_type": "display_data",
          "data": {
            "image/png": "[encoded data removed]",
            "text/plain": [
              "<Figure size 432x288 with 1 Axes>"
            ]
          },
          "metadata": {
            "tags": [],
            "needs_background": "light"
          }
        }
      ]
    },
    {
      "cell_type": "code",
      "metadata": {
        "colab": {
          "base_uri": "https://localhost:8080/",
          "height": 313
        },
        "id": "cfknB2js75J2",
        "outputId": "000e8e8a-5000-440d-e412-cb73d05284a4"
      },
      "source": [
        "#Plot loss\n",
        "# karena epoch nya hanya satu jadi plot tidak terlihat \n",
        "plt.plot(history.history['loss'], label='Training Loss')\n",
        "plt.plot(history.history['val_loss'], label='Validation Loss')\n",
        "plt.title('model loss')\n",
        "plt.ylabel('loss')\n",
        "plt.xlabel('epoch')\n",
        "plt.legend()"
      ],
      "execution_count": null,
      "outputs": [
        {
          "output_type": "execute_result",
          "data": {
            "text/plain": [
              "<matplotlib.legend.Legend at 0x7f1ff83a3810>"
            ]
          },
          "metadata": {
            "tags": []
          },
          "execution_count": 59
        },
        {
          "output_type": "display_data",
          "data": {
            "image/png": "[encoded data removed]",
            "text/plain": [
              "<Figure size 432x288 with 1 Axes>"
            ]
          },
          "metadata": {
            "tags": [],
            "needs_background": "light"
          }
        }
      ]
    }
  ]
}